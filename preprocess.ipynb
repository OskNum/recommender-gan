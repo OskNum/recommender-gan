{
 "cells": [
  {
   "cell_type": "code",
   "execution_count": 2,
   "id": "5c765392",
   "metadata": {},
   "outputs": [],
   "source": [
    "import pandas as pd"
   ]
  },
  {
   "cell_type": "code",
   "execution_count": 4,
   "id": "6c1be524",
   "metadata": {},
   "outputs": [],
   "source": [
    "transactions = pd.read_csv('data/trans_subset.csv')\n",
    "customers = pd.read_csv('data/customers.csv')\n",
    "products = pd.read_csv('data/products.csv')"
   ]
  },
  {
   "cell_type": "code",
   "execution_count": 5,
   "id": "c9d757ee",
   "metadata": {},
   "outputs": [],
   "source": [
    "final_prod = products[['ID']].copy()\n",
    "final_prod.loc[:,'PRICE'] = products['PRICE']/products['PRICE'].max()\n",
    "final_prod = final_prod.merge(pd.get_dummies(products[['ID', 'CATEGORY']], columns=['CATEGORY']), how='left', on='ID')"
   ]
  },
  {
   "cell_type": "code",
   "execution_count": 6,
   "id": "1717554e",
   "metadata": {},
   "outputs": [],
   "source": [
    "final_cust = pd.get_dummies(customers[['ID', 'COUNTRY']], columns=['COUNTRY'])"
   ]
  },
  {
   "cell_type": "code",
   "execution_count": 10,
   "id": "be505f2f",
   "metadata": {},
   "outputs": [],
   "source": [
    "final_all = transactions[['PRODUCT_ID', 'CUSTOMER_ID']].copy()\n",
    "final_all = final_all.merge(final_prod, how='left', left_on='PRODUCT_ID', right_on='ID')\n",
    "final_all = final_all.merge(final_cust, how='left', left_on='CUSTOMER_ID', right_on='ID')\n",
    "final_all = final_all.dropna()"
   ]
  },
  {
   "cell_type": "code",
   "execution_count": 11,
   "id": "9a31a60f",
   "metadata": {},
   "outputs": [],
   "source": [
    "final_all.drop(\n",
    "    columns=[\n",
    "        'PRODUCT_ID', 'CUSTOMER_ID', 'ID_x', 'ID_y', 'COUNTRY_Sweden', 'COUNTRY_UK', 'COUNTRY_US'\n",
    "    ]\n",
    ").to_csv('data/train/X.csv', index=False)"
   ]
  },
  {
   "cell_type": "code",
   "execution_count": 12,
   "id": "3f37be79",
   "metadata": {},
   "outputs": [],
   "source": [
    "final_all[['COUNTRY_Sweden', 'COUNTRY_UK', 'COUNTRY_US']].to_csv('data/train/y.csv', index=False)"
   ]
  }
 ],
 "metadata": {
  "kernelspec": {
   "display_name": "Python 3 (ipykernel)",
   "language": "python",
   "name": "python3"
  },
  "language_info": {
   "codemirror_mode": {
    "name": "ipython",
    "version": 3
   },
   "file_extension": ".py",
   "mimetype": "text/x-python",
   "name": "python",
   "nbconvert_exporter": "python",
   "pygments_lexer": "ipython3",
   "version": "3.8.16"
  }
 },
 "nbformat": 4,
 "nbformat_minor": 5
}
